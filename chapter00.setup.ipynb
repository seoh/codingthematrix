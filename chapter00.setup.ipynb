{
 "cells": [
  {
   "cell_type": "markdown",
   "metadata": {},
   "source": [
    "# 0. bang(!) is command"
   ]
  },
  {
   "cell_type": "code",
   "execution_count": 5,
   "metadata": {
    "collapsed": false
   },
   "outputs": [
    {
     "name": "stdout",
     "output_type": "stream",
     "text": [
      "\u001b[34m__pycache__\u001b[m\u001b[m           chapter01.ipynb       tags\r\n",
      "chapter00.setup.ipynb dictutil.py\r\n"
     ]
    }
   ],
   "source": [
    "!ls"
   ]
  },
  {
   "cell_type": "markdown",
   "metadata": {},
   "source": [
    "# 1. install python(>=3)"
   ]
  },
  {
   "cell_type": "code",
   "execution_count": 6,
   "metadata": {
    "collapsed": false
   },
   "outputs": [
    {
     "name": "stdout",
     "output_type": "stream",
     "text": [
      "\u001b[4;33mWarning\u001b[0m: python3-3.4.3 already installed\r\n"
     ]
    }
   ],
   "source": [
    "!brew install python3"
   ]
  },
  {
   "cell_type": "markdown",
   "metadata": {},
   "source": [
    "# 2. install ipython"
   ]
  },
  {
   "cell_type": "code",
   "execution_count": null,
   "metadata": {
    "collapsed": false
   },
   "outputs": [],
   "source": [
    "!pip install ipython matplotlib"
   ]
  },
  {
   "cell_type": "markdown",
   "metadata": {},
   "source": [
    "# 3. start notebook-server"
   ]
  },
  {
   "cell_type": "code",
   "execution_count": null,
   "metadata": {
    "collapsed": false
   },
   "outputs": [
    {
     "name": "stdout",
     "output_type": "stream",
     "text": [
      "\u001b[32m[I 23:04:01.250 NotebookApp]\u001b[m Using MathJax from CDN: https://cdn.mathjax.org/mathjax/latest/MathJax.js\n",
      "\u001b[32m[I 23:04:01.300 NotebookApp]\u001b[m The port 8888 is already in use, trying another random port.\n",
      "\u001b[33m[W 23:04:01.304 NotebookApp]\u001b[m Terminals not available (error was No module named 'terminado')\n",
      "\u001b[32m[I 23:04:01.305 NotebookApp]\u001b[m Serving notebooks from local directory: /Users/seoh/workspace/matrix\n",
      "\u001b[32m[I 23:04:01.305 NotebookApp]\u001b[m 0 active kernels \n",
      "\u001b[32m[I 23:04:01.305 NotebookApp]\u001b[m The IPython Notebook is running at: http://localhost:8889/\n",
      "\u001b[32m[I 23:04:01.305 NotebookApp]\u001b[m Use Control-C to stop this server and shut down all kernels (twice to skip confirmation).\n"
     ]
    }
   ],
   "source": [
    "!ipython notebook"
   ]
  },
  {
   "cell_type": "markdown",
   "metadata": {},
   "source": [
    "# 4. resources\n",
    "\n",
    "\n",
    "- [Official Document](http://ipython.org/ipython-doc/stable/)\n",
    "- [Data Science IPython Notebooks](https://github.com/donnemartin/data-science-ipython-notebooks)"
   ]
  },
  {
   "cell_type": "markdown",
   "metadata": {},
   "source": [
    "# 5. todo\n",
    "\n",
    "- setting another kernel (python2, R, scala, etc)"
   ]
  },
  {
   "cell_type": "code",
   "execution_count": null,
   "metadata": {
    "collapsed": true
   },
   "outputs": [],
   "source": []
  }
 ],
 "metadata": {
  "kernelspec": {
   "display_name": "Python 3",
   "language": "python",
   "name": "python3"
  },
  "language_info": {
   "codemirror_mode": {
    "name": "ipython",
    "version": 3
   },
   "file_extension": ".py",
   "mimetype": "text/x-python",
   "name": "python",
   "nbconvert_exporter": "python",
   "pygments_lexer": "ipython3",
   "version": "3.4.3"
  }
 },
 "nbformat": 4,
 "nbformat_minor": 0
}
