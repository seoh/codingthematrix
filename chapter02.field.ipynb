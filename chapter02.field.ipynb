{
 "cells": [
  {
   "cell_type": "code",
   "execution_count": 33,
   "metadata": {
    "collapsed": false
   },
   "outputs": [
    {
     "data": {
      "image/png": "[encoded data removed]",
      "text/plain": [
       "<matplotlib.figure.Figure at 0x1099a3400>"
      ]
     },
     "metadata": {},
     "output_type": "display_data"
    }
   ],
   "source": [
    "# DEPREACATED\n",
    "\n",
    "# Task 2.4.1 \n",
    "\n",
    "%matplotlib inline\n",
    "\n",
    "import matplotlib\n",
    "import matplotlib.pyplot as plt\n",
    "\n",
    "arr = [2+2j, 3+2j, 1.75+1j, 2+1j, 2.25+1j, 2.5+1j, 2.75+1j, 3+1j, 3.25+1j]\n",
    "\n",
    "def plot(lst, size=4):\n",
    "    \"\"\"\n",
    "        lst: list of complex numbers\n",
    "        rng: plotting range like [x.fr, x.to, y.fr, y.to]\n",
    "    \"\"\"\n",
    "\n",
    "    for i in lst:\n",
    "        plt.plot(i.real, i.imag, 'o')\n",
    "\n",
    "    plt.axis([0, size, 0, size]) # [x.fr, x.to, y.fr, y.to]\n",
    "    plt.show()\n",
    "\n",
    "plot(arr)"
   ]
  },
  {
   "cell_type": "markdown",
   "metadata": {},
   "source": [
    "\\# 2.4.6\n",
    "\n",
    "$z_1 = 3i$\n",
    "\n",
    "$z_2 = -3$\n",
    "\n",
    "$z_0 = z_1 + z_2 = -3+3i$"
   ]
  },
  {
   "cell_type": "code",
   "execution_count": 43,
   "metadata": {
    "collapsed": false
   },
   "outputs": [],
   "source": [
    "# Prepare specific directory files\n",
    "\n",
    "import sys\n",
    "sys.path.append(\"field\")\n",
    "\n",
    "\n",
    "from plotting import plot\n",
    "\n",
    "plot([2+2j, 3+2j, 1.75+1j, 2+1j, 2.25+1j, 2.5+1j, 2.75+1j, 3+1j, 3.25+1j], 4)"
   ]
  },
  {
   "cell_type": "code",
   "execution_count": 10,
   "metadata": {
    "collapsed": false
   },
   "outputs": [
    {
     "data": {
      "text/plain": [
       "one"
      ]
     },
     "execution_count": 10,
     "metadata": {},
     "output_type": "execute_result"
    }
   ],
   "source": [
    "from GF2 import one\n",
    "one*one"
   ]
  },
  {
   "cell_type": "code",
   "execution_count": 53,
   "metadata": {
    "collapsed": false
   },
   "outputs": [
    {
     "name": "stdout",
     "output_type": "stream",
     "text": [
      "['v', 'e', 'v', 'l', 'z', 'd', 'l', 'v', 'e', 'z', '{']\n"
     ]
    }
   ],
   "source": [
    "enc = [0b10101, 0b00100, 0b10101, 0b01011, 0b11001, 0b00011,0b01011, 0b10101, 0b00100, 0b11001, 0b11010]\n",
    "print(list(map(lambda x: chr(97+x), enc)))\n",
    "\n",
    "# for i in range(32):\n",
    "#     dec = map(lambda x: chr(97+ x^i), enc)\n",
    "#     print(\"\".join(list(map(lambda x: chr(97+ x^i), enc))))\n"
   ]
  },
  {
   "cell_type": "markdown",
   "metadata": {},
   "source": [
    "# Problem"
   ]
  },
  {
   "cell_type": "code",
   "execution_count": 19,
   "metadata": {
    "collapsed": false
   },
   "outputs": [
    {
     "name": "stdout",
     "output_type": "stream",
     "text": [
      "[1, 5, 7]\n"
     ]
    }
   ],
   "source": [
    "# 2.7.1\n",
    "\n",
    "def my_filter(L, num):\n",
    "    return list(filter(lambda x: x % num is not 0, L))\n",
    "\n",
    "print(my_filter([1,2,4,5,7], 2))"
   ]
  },
  {
   "cell_type": "code",
   "execution_count": 22,
   "metadata": {
    "collapsed": false
   },
   "outputs": [
    {
     "name": "stdout",
     "output_type": "stream",
     "text": [
      "[[1], [1, 2], [1, 2, 3]]\n",
      "[[]]\n"
     ]
    }
   ],
   "source": [
    "# 2.7.2\n",
    "\n",
    "def my_list(L):\n",
    "    return list(map(lambda x: list(range(1, x+1)), L))\n",
    "\n",
    "print(my_list([1,2,3]))\n",
    "print(my_list([0]))\n"
   ]
  },
  {
   "cell_type": "code",
   "execution_count": 25,
   "metadata": {
    "collapsed": false
   },
   "outputs": [
    {
     "name": "stdout",
     "output_type": "stream",
     "text": [
      "{0: 'apple', 1: 'banana'}\n"
     ]
    }
   ],
   "source": [
    "# 2.7.3\n",
    "\n",
    "def my_function_composition(f, g):\n",
    "    return {k: g[f[k]] for k in f}\n",
    "\n",
    "print(my_function_composition(\n",
    "    {0: 'a', 1: 'b'},\n",
    "    {'a': 'apple', 'b': 'banana'}\n",
    "))"
   ]
  },
  {
   "cell_type": "code",
   "execution_count": 38,
   "metadata": {
    "collapsed": false
   },
   "outputs": [
    {
     "name": "stdout",
     "output_type": "stream",
     "text": [
      "sum of [1,2,3] is 6\n",
      "product of [1,2,3] is 6\n",
      "min of [1,2,3] is 1\n",
      "concat of [a,b,c] is abc\n"
     ]
    }
   ],
   "source": [
    "# 2.7.4\n",
    "\n",
    "mySum = lambda L: sum(L)\n",
    "print(\"sum of [1,2,3] is\", mySum([1,2,3]))\n",
    "\n",
    "# 2.7.5\n",
    "\n",
    "from functools import reduce\n",
    "myProduct = lambda L: reduce(lambda a,b:a*b, L)\n",
    "print(\"product of [1,2,3] is\", myProduct([1,2,3]))\n",
    "\n",
    "# 2.7.6\n",
    "\n",
    "myMin = lambda L: min(L)\n",
    "print(\"min of [1,2,3] is\", myMin([1,2,3]))\n",
    "\n",
    "# 2.7.7\n",
    "\n",
    "myConcat = lambda L: reduce(lambda a,b:a+b, L)\n",
    "print(\"concat of [a,b,c] is\", myConcat([\"a\", \"b\", \"c\"]))\n",
    "\n"
   ]
  },
  {
   "cell_type": "code",
   "execution_count": null,
   "metadata": {
    "collapsed": true
   },
   "outputs": [],
   "source": []
  }
 ],
 "metadata": {
  "kernelspec": {
   "display_name": "Python 3",
   "language": "python",
   "name": "python3"
  },
  "language_info": {
   "codemirror_mode": {
    "name": "ipython",
    "version": 3
   },
   "file_extension": ".py",
   "mimetype": "text/x-python",
   "name": "python",
   "nbconvert_exporter": "python",
   "pygments_lexer": "ipython3",
   "version": "3.4.3"
  }
 },
 "nbformat": 4,
 "nbformat_minor": 0
}
